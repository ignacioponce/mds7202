{
 "cells": [
  {
   "cell_type": "markdown",
   "metadata": {
    "cell_id": "00000-73f3e32f-2ef2-4c8f-8a16-d0512209e3ca",
    "deepnote_cell_type": "markdown",
    "id": "XUZ1dFPHzAHl"
   },
   "source": [
    "<h1><center>Laboratorio 7: Aprendizaje Supervisado 🔮</center></h1>\n",
    "\n",
    "<center><strong>MDS7202: Laboratorio de Programación Científica para Ciencia de Datos</strong></center>"
   ]
  },
  {
   "cell_type": "markdown",
   "metadata": {
    "cell_id": "00001-f0f6f193-27cb-4e14-8eb4-8192d12f7721",
    "deepnote_cell_type": "markdown",
    "id": "UD8X1uhGzAHq"
   },
   "source": [
    "### Cuerpo Docente:\n",
    "\n",
    "- Profesor: Pablo Badilla\n",
    "- Auxiliar: Ignacio Meza D.\n",
    "- Ayudante: Constanza Peña"
   ]
  },
  {
   "cell_type": "markdown",
   "metadata": {
    "cell_id": "00002-cbc359e4-c6bf-4a18-b935-8b000e48c13d",
    "deepnote_cell_type": "markdown",
    "id": "tXflExjqzAHr"
   },
   "source": [
    "### Equipo: SUPER IMPORTANTE - notebooks sin nombre no serán revisados\n",
    "\n",
    "- Nombre de alumno 1: Ignacio Ponce \n",
    "- Nombre de alumno 2:\n"
   ]
  },
  {
   "cell_type": "markdown",
   "metadata": {
    "cell_id": "00003-50e2b812-e515-42a0-b713-6dbfaa83c601",
    "deepnote_cell_type": "markdown",
    "id": "AD-V0bbZzAHr"
   },
   "source": [
    "### **Link de repositorio de GitHub:** `http://https://github.com/ignacioponce/mds7202`"
   ]
  },
  {
   "cell_type": "markdown",
   "metadata": {
    "cell_id": "00005-119cf881-89af-4ccc-8bf7-2763d5eb0785",
    "deepnote_cell_type": "markdown",
    "id": "6uBLPj1PzAHs"
   },
   "source": [
    "## Temas a tratar\n",
    "\n",
    "- Aprendizaje Supervisado\n",
    "- Flujos de datos a través de `Pipelines`.\n",
    "\n",
    "## Reglas\n",
    "\n",
    "- Fecha de entrega: TBD\n",
    "- **Grupos de 2 personas**\n",
    "- **Ausentes** deberán realizar la actividad solos. \n",
    "- Cualquier duda fuera del horario de clases al foro. Mensajes al equipo docente serán respondidos por este medio.\n",
    "- Prohibidas las copias. \n",
    "- Pueden usar cualquer matrial del curso que estimen conveniente.\n",
    "\n",
    "## Objetivos principales del laboratorio\n",
    "\n",
    "- Comprender el funcionamiento de clasificadores/regresores.\n",
    "- Generar múltiples modelos predictivos.\n",
    "- Comprender las ventajas de crear modelos en pipeline vs hacer las operaciones a mano.\n",
    "\n",
    "El laboratorio deberá ser desarrollado sin el uso indiscriminado de iteradores nativos de python (aka \"for\", \"while\"). La idea es que aprendan a exprimir al máximo las funciones optimizadas que nos entrega `pandas`, las cuales vale mencionar, son bastante más eficientes que los iteradores nativos sobre `DataFrames`."
   ]
  },
  {
   "cell_type": "markdown",
   "metadata": {
    "cell_id": "00006-d1bce751-1f1d-4470-8cbb-a77ba271ef39",
    "deepnote_cell_type": "markdown",
    "id": "MhISwri4zAHy"
   },
   "source": [
    "#Importamos librerias utiles 😸"
   ]
  },
  {
   "cell_type": "code",
   "execution_count": 290,
   "metadata": {
    "ExecuteTime": {
     "end_time": "2021-03-29T00:08:16.884674Z",
     "start_time": "2021-03-29T00:08:16.349846Z"
    },
    "cell_id": "00007-e1ebdc56-4008-489c-85bc-b1ffb9cbbced",
    "colab": {
     "base_uri": "https://localhost:8080/"
    },
    "deepnote_cell_type": "code",
    "deepnote_to_be_reexecuted": false,
    "execution_millis": 7630,
    "execution_start": 1636741163382,
    "id": "uyc33dKdzAHy",
    "outputId": "e8cc251c-aa25-4fdb-db15-3027707cfbdf",
    "source_hash": "cb3614e"
   },
   "outputs": [],
   "source": [
    "# Libreria Core del lab.\n",
    "import numpy as np\n",
    "import pandas as pd\n",
    "from sklearn.pipeline import Pipeline\n",
    "from sklearn.compose import ColumnTransformer\n",
    "from sklearn.model_selection import train_test_split \n",
    "\n",
    "# Pre-procesamiento\n",
    "from sklearn.preprocessing import MinMaxScaler\n",
    "from sklearn.preprocessing import StandardScaler\n",
    "from sklearn.preprocessing import FunctionTransformer\n",
    "from sklearn.preprocessing import PowerTransformer\n",
    "from sklearn.preprocessing import OneHotEncoder\n",
    "from sklearn.preprocessing import OrdinalEncoder\n",
    "from sklearn.tree import DecisionTreeClassifier\n",
    "\n",
    "#Models\n",
    "from sklearn.svm import LinearSVC\n",
    "from sklearn.svm import SVC\n",
    "from sklearn.svm import SVR\n",
    "\n",
    "from sklearn.linear_model import RidgeCV\n",
    "from sklearn.svm import LinearSVR\n",
    "\n",
    "from sklearn.neighbors import KNeighborsClassifier\n",
    "from sklearn.linear_model import Ridge\n",
    "from sklearn.linear_model import Lasso\n",
    "from sklearn.linear_model import ElasticNet\n",
    "\n",
    "# Metricas de evaluación\n",
    "from sklearn.metrics import classification_report, confusion_matrix\n",
    "from sklearn.metrics import accuracy_score\n",
    "from sklearn.metrics import f1_score\n",
    "from sklearn.metrics import cohen_kappa_score\n",
    "from sklearn.metrics import r2_score\n",
    "\n",
    "#Libreria para plotear\n",
    "#!pip install --upgrade plotly\n",
    "import plotly.express as px\n",
    "from plotly.subplots import make_subplots\n",
    "import plotly.graph_objects as go\n",
    "\n",
    "# UMAP\n",
    "#!pip install umap-learn"
   ]
  },
  {
   "cell_type": "markdown",
   "metadata": {
    "cell_id": "00008-7877e530-5ed5-483e-af0a-4fd26434d7dc",
    "deepnote_cell_type": "markdown",
    "id": "5FTGE74b3FBU"
   },
   "source": [
    "https://www.kaggle.com/antoinekrajnc/soccer-players-statistics"
   ]
  },
  {
   "cell_type": "markdown",
   "metadata": {
    "cell_id": "00009-2d8a21b8-a5ac-41ee-9a17-15c179c9b666",
    "deepnote_cell_type": "markdown",
    "id": "xpOTbQcxbSiy"
   },
   "source": [
    "# 1. Predicciones Futboleras\n",
    "\n",
    "<p align=\"center\">\n",
    "  <img src=\"https://drive.google.com/uc?export=view&id=1BnO4tyh3vM2P199Ec9s3JjngQ4qQ9seP\"\n",
    "\" width=\"300\">\n",
    "</p>\n",
    "\n",
    "\n",
    "Tras el trágico despido de la mítica mascota de Maipú, Renacín decide adentrarse como consultor en el mercado futbolero, el cuál (para variar...) está cargado en especulaciones. \n",
    "\n",
    "Como su principal tarea será asesorar a los directivos de los clubes sobre cuál jugador comprar y cuál no, Renacín desea generar modelos predictivos que evaluén distintas características de los jugadores; todo con el fin de tomar decisiones concretas basadas en los datos.\n",
    "\n",
    "Sin embargo, su condición de corporeo le impidió tomar la versión anterior de MDS7202, por lo que este motivo Renacín contrata a su equipo para lograr su objetivo final. Dado que aún tiene fuertes vínculos con la dirección de deportes de la municipalidad, el corporeo le entrega base de datos con las estadísticas de cada jugador para que su equipo empieze a trabajar ya con un dataset listo para ser usado.\n"
   ]
  },
  {
   "cell_type": "markdown",
   "metadata": {
    "cell_id": "00010-6b2847d4-5b92-44b7-9ce0-c6b6779ac157",
    "deepnote_cell_type": "markdown",
    "id": "jnmZfFpxTTYX"
   },
   "source": [
    "**Los Datos**\n",
    "\n",
    "Para este laboratorio deberán trabajar con los csv `statsplayers.csv` y `salarios.pickle`, donde deberán aplicar algoritmos de de aprendizaje supervisado (clasificación y regresión) en base a características que describen de jugadores de futbol.\n",
    "\n",
    "Para comenzar cargue el dataset señalado y a continuación vea el reporte **`Player_Stats_Report.html`** (adjunto en la carpeta del enunciado) que describe las características principales del `DataFrame`."
   ]
  },
  {
   "cell_type": "code",
   "execution_count": 33,
   "metadata": {
    "cell_id": "00011-41e0cc7d-f280-4fd4-9186-b97a9c9f2245",
    "colab": {
     "base_uri": "https://localhost:8080/"
    },
    "deepnote_cell_type": "code",
    "deepnote_to_be_reexecuted": false,
    "execution_millis": 7,
    "execution_start": 1636741171022,
    "id": "Jqq-s010Iwl1",
    "outputId": "f4cecd84-95c6-4a80-e472-5b8ea011e843",
    "source_hash": "c60dc4a7"
   },
   "outputs": [
    {
     "name": "stdout",
     "output_type": "stream",
     "text": [
      "Ignorando conexión drive-colab\n"
     ]
    }
   ],
   "source": [
    "# Si usted está utilizando Colabolatory le puede ser útil este código para cargar los archivos.\n",
    "try:\n",
    "    from google.colab import drive\n",
    "    drive.mount(\"/content/drive\")\n",
    "    path = 'Dirección donde tiene los archivos en el Drive'\n",
    "except: \n",
    "    print('Ignorando conexión drive-colab')"
   ]
  },
  {
   "cell_type": "code",
   "execution_count": 105,
   "metadata": {
    "cell_id": "00012-64bcb839-4478-423e-9bd1-cdb81eefc97e",
    "colab": {
     "base_uri": "https://localhost:8080/",
     "height": 309
    },
    "deepnote_cell_type": "code",
    "deepnote_to_be_reexecuted": false,
    "execution_millis": 184,
    "execution_start": 1636742947300,
    "id": "bED3w3tDbSCf",
    "outputId": "8961b413-9ab2-4d57-8d77-648860771520",
    "source_hash": "65944a94"
   },
   "outputs": [
    {
     "data": {
      "text/html": [
       "<div>\n",
       "<style scoped>\n",
       "    .dataframe tbody tr th:only-of-type {\n",
       "        vertical-align: middle;\n",
       "    }\n",
       "\n",
       "    .dataframe tbody tr th {\n",
       "        vertical-align: top;\n",
       "    }\n",
       "\n",
       "    .dataframe thead th {\n",
       "        text-align: right;\n",
       "    }\n",
       "</style>\n",
       "<table border=\"1\" class=\"dataframe\">\n",
       "  <thead>\n",
       "    <tr style=\"text-align: right;\">\n",
       "      <th></th>\n",
       "      <th>Name</th>\n",
       "      <th>Nationality</th>\n",
       "      <th>National_Position</th>\n",
       "      <th>Club_Position</th>\n",
       "      <th>Height</th>\n",
       "      <th>Weight</th>\n",
       "      <th>Preffered_Foot</th>\n",
       "      <th>Age</th>\n",
       "      <th>Work_Rate</th>\n",
       "      <th>Weak_foot</th>\n",
       "      <th>...</th>\n",
       "      <th>Agility</th>\n",
       "      <th>Jumping</th>\n",
       "      <th>Heading</th>\n",
       "      <th>Shot_Power</th>\n",
       "      <th>Finishing</th>\n",
       "      <th>Long_Shots</th>\n",
       "      <th>Curve</th>\n",
       "      <th>Freekick_Accuracy</th>\n",
       "      <th>Penalties</th>\n",
       "      <th>Volleys</th>\n",
       "    </tr>\n",
       "  </thead>\n",
       "  <tbody>\n",
       "    <tr>\n",
       "      <th>0</th>\n",
       "      <td>Cristiano Ronaldo</td>\n",
       "      <td>Portugal</td>\n",
       "      <td>LS</td>\n",
       "      <td>LW</td>\n",
       "      <td>185</td>\n",
       "      <td>80</td>\n",
       "      <td>Right</td>\n",
       "      <td>32</td>\n",
       "      <td>High / Low</td>\n",
       "      <td>4</td>\n",
       "      <td>...</td>\n",
       "      <td>90</td>\n",
       "      <td>95</td>\n",
       "      <td>85</td>\n",
       "      <td>92</td>\n",
       "      <td>93</td>\n",
       "      <td>90</td>\n",
       "      <td>81</td>\n",
       "      <td>76</td>\n",
       "      <td>85</td>\n",
       "      <td>88</td>\n",
       "    </tr>\n",
       "    <tr>\n",
       "      <th>1</th>\n",
       "      <td>Lionel Messi</td>\n",
       "      <td>Argentina</td>\n",
       "      <td>RW</td>\n",
       "      <td>RW</td>\n",
       "      <td>170</td>\n",
       "      <td>72</td>\n",
       "      <td>Left</td>\n",
       "      <td>29</td>\n",
       "      <td>Medium / Medium</td>\n",
       "      <td>4</td>\n",
       "      <td>...</td>\n",
       "      <td>90</td>\n",
       "      <td>68</td>\n",
       "      <td>71</td>\n",
       "      <td>85</td>\n",
       "      <td>95</td>\n",
       "      <td>88</td>\n",
       "      <td>89</td>\n",
       "      <td>90</td>\n",
       "      <td>74</td>\n",
       "      <td>85</td>\n",
       "    </tr>\n",
       "    <tr>\n",
       "      <th>2</th>\n",
       "      <td>Neymar</td>\n",
       "      <td>Brazil</td>\n",
       "      <td>LW</td>\n",
       "      <td>LW</td>\n",
       "      <td>174</td>\n",
       "      <td>68</td>\n",
       "      <td>Right</td>\n",
       "      <td>25</td>\n",
       "      <td>High / Medium</td>\n",
       "      <td>5</td>\n",
       "      <td>...</td>\n",
       "      <td>96</td>\n",
       "      <td>61</td>\n",
       "      <td>62</td>\n",
       "      <td>78</td>\n",
       "      <td>89</td>\n",
       "      <td>77</td>\n",
       "      <td>79</td>\n",
       "      <td>84</td>\n",
       "      <td>81</td>\n",
       "      <td>83</td>\n",
       "    </tr>\n",
       "    <tr>\n",
       "      <th>3</th>\n",
       "      <td>Luis Suárez</td>\n",
       "      <td>Uruguay</td>\n",
       "      <td>LS</td>\n",
       "      <td>ST</td>\n",
       "      <td>182</td>\n",
       "      <td>85</td>\n",
       "      <td>Right</td>\n",
       "      <td>30</td>\n",
       "      <td>High / Medium</td>\n",
       "      <td>4</td>\n",
       "      <td>...</td>\n",
       "      <td>86</td>\n",
       "      <td>69</td>\n",
       "      <td>77</td>\n",
       "      <td>87</td>\n",
       "      <td>94</td>\n",
       "      <td>86</td>\n",
       "      <td>86</td>\n",
       "      <td>84</td>\n",
       "      <td>85</td>\n",
       "      <td>88</td>\n",
       "    </tr>\n",
       "    <tr>\n",
       "      <th>4</th>\n",
       "      <td>Manuel Neuer</td>\n",
       "      <td>Germany</td>\n",
       "      <td>GK</td>\n",
       "      <td>GK</td>\n",
       "      <td>193</td>\n",
       "      <td>92</td>\n",
       "      <td>Right</td>\n",
       "      <td>31</td>\n",
       "      <td>Medium / Medium</td>\n",
       "      <td>4</td>\n",
       "      <td>...</td>\n",
       "      <td>52</td>\n",
       "      <td>78</td>\n",
       "      <td>25</td>\n",
       "      <td>25</td>\n",
       "      <td>13</td>\n",
       "      <td>16</td>\n",
       "      <td>14</td>\n",
       "      <td>11</td>\n",
       "      <td>47</td>\n",
       "      <td>11</td>\n",
       "    </tr>\n",
       "    <tr>\n",
       "      <th>...</th>\n",
       "      <td>...</td>\n",
       "      <td>...</td>\n",
       "      <td>...</td>\n",
       "      <td>...</td>\n",
       "      <td>...</td>\n",
       "      <td>...</td>\n",
       "      <td>...</td>\n",
       "      <td>...</td>\n",
       "      <td>...</td>\n",
       "      <td>...</td>\n",
       "      <td>...</td>\n",
       "      <td>...</td>\n",
       "      <td>...</td>\n",
       "      <td>...</td>\n",
       "      <td>...</td>\n",
       "      <td>...</td>\n",
       "      <td>...</td>\n",
       "      <td>...</td>\n",
       "      <td>...</td>\n",
       "      <td>...</td>\n",
       "      <td>...</td>\n",
       "    </tr>\n",
       "    <tr>\n",
       "      <th>17583</th>\n",
       "      <td>Adam Dunbar</td>\n",
       "      <td>Republic of Ireland</td>\n",
       "      <td>NaN</td>\n",
       "      <td>Sub</td>\n",
       "      <td>183</td>\n",
       "      <td>82</td>\n",
       "      <td>Right</td>\n",
       "      <td>19</td>\n",
       "      <td>Medium / Medium</td>\n",
       "      <td>1</td>\n",
       "      <td>...</td>\n",
       "      <td>27</td>\n",
       "      <td>56</td>\n",
       "      <td>14</td>\n",
       "      <td>16</td>\n",
       "      <td>13</td>\n",
       "      <td>13</td>\n",
       "      <td>11</td>\n",
       "      <td>13</td>\n",
       "      <td>15</td>\n",
       "      <td>12</td>\n",
       "    </tr>\n",
       "    <tr>\n",
       "      <th>17584</th>\n",
       "      <td>Dylan McGoey</td>\n",
       "      <td>Republic of Ireland</td>\n",
       "      <td>NaN</td>\n",
       "      <td>Sub</td>\n",
       "      <td>185</td>\n",
       "      <td>80</td>\n",
       "      <td>Right</td>\n",
       "      <td>19</td>\n",
       "      <td>Medium / Medium</td>\n",
       "      <td>2</td>\n",
       "      <td>...</td>\n",
       "      <td>28</td>\n",
       "      <td>53</td>\n",
       "      <td>12</td>\n",
       "      <td>17</td>\n",
       "      <td>12</td>\n",
       "      <td>11</td>\n",
       "      <td>12</td>\n",
       "      <td>13</td>\n",
       "      <td>16</td>\n",
       "      <td>12</td>\n",
       "    </tr>\n",
       "    <tr>\n",
       "      <th>17585</th>\n",
       "      <td>Tommy Ouldridge</td>\n",
       "      <td>England</td>\n",
       "      <td>NaN</td>\n",
       "      <td>Res</td>\n",
       "      <td>173</td>\n",
       "      <td>61</td>\n",
       "      <td>Right</td>\n",
       "      <td>18</td>\n",
       "      <td>High / Medium</td>\n",
       "      <td>2</td>\n",
       "      <td>...</td>\n",
       "      <td>54</td>\n",
       "      <td>61</td>\n",
       "      <td>41</td>\n",
       "      <td>44</td>\n",
       "      <td>28</td>\n",
       "      <td>42</td>\n",
       "      <td>35</td>\n",
       "      <td>36</td>\n",
       "      <td>42</td>\n",
       "      <td>37</td>\n",
       "    </tr>\n",
       "    <tr>\n",
       "      <th>17586</th>\n",
       "      <td>Mark Foden</td>\n",
       "      <td>Scotland</td>\n",
       "      <td>NaN</td>\n",
       "      <td>Sub</td>\n",
       "      <td>180</td>\n",
       "      <td>80</td>\n",
       "      <td>Right</td>\n",
       "      <td>21</td>\n",
       "      <td>Medium / Medium</td>\n",
       "      <td>3</td>\n",
       "      <td>...</td>\n",
       "      <td>34</td>\n",
       "      <td>48</td>\n",
       "      <td>15</td>\n",
       "      <td>23</td>\n",
       "      <td>14</td>\n",
       "      <td>12</td>\n",
       "      <td>13</td>\n",
       "      <td>12</td>\n",
       "      <td>24</td>\n",
       "      <td>12</td>\n",
       "    </tr>\n",
       "    <tr>\n",
       "      <th>17587</th>\n",
       "      <td>Barry Richardson</td>\n",
       "      <td>England</td>\n",
       "      <td>NaN</td>\n",
       "      <td>Sub</td>\n",
       "      <td>185</td>\n",
       "      <td>77</td>\n",
       "      <td>Right</td>\n",
       "      <td>47</td>\n",
       "      <td>Medium / Medium</td>\n",
       "      <td>2</td>\n",
       "      <td>...</td>\n",
       "      <td>38</td>\n",
       "      <td>51</td>\n",
       "      <td>12</td>\n",
       "      <td>13</td>\n",
       "      <td>11</td>\n",
       "      <td>16</td>\n",
       "      <td>12</td>\n",
       "      <td>11</td>\n",
       "      <td>22</td>\n",
       "      <td>12</td>\n",
       "    </tr>\n",
       "  </tbody>\n",
       "</table>\n",
       "<p>17588 rows × 39 columns</p>\n",
       "</div>"
      ],
      "text/plain": [
       "                    Name          Nationality National_Position Club_Position  \\\n",
       "0      Cristiano Ronaldo             Portugal                LS            LW   \n",
       "1           Lionel Messi            Argentina                RW            RW   \n",
       "2                 Neymar               Brazil                LW            LW   \n",
       "3            Luis Suárez              Uruguay                LS            ST   \n",
       "4           Manuel Neuer              Germany                GK            GK   \n",
       "...                  ...                  ...               ...           ...   \n",
       "17583        Adam Dunbar  Republic of Ireland               NaN           Sub   \n",
       "17584       Dylan McGoey  Republic of Ireland               NaN           Sub   \n",
       "17585    Tommy Ouldridge              England               NaN           Res   \n",
       "17586         Mark Foden             Scotland               NaN           Sub   \n",
       "17587   Barry Richardson              England               NaN           Sub   \n",
       "\n",
       "       Height  Weight Preffered_Foot  Age        Work_Rate  Weak_foot  ...  \\\n",
       "0         185      80          Right   32       High / Low          4  ...   \n",
       "1         170      72           Left   29  Medium / Medium          4  ...   \n",
       "2         174      68          Right   25    High / Medium          5  ...   \n",
       "3         182      85          Right   30    High / Medium          4  ...   \n",
       "4         193      92          Right   31  Medium / Medium          4  ...   \n",
       "...       ...     ...            ...  ...              ...        ...  ...   \n",
       "17583     183      82          Right   19  Medium / Medium          1  ...   \n",
       "17584     185      80          Right   19  Medium / Medium          2  ...   \n",
       "17585     173      61          Right   18    High / Medium          2  ...   \n",
       "17586     180      80          Right   21  Medium / Medium          3  ...   \n",
       "17587     185      77          Right   47  Medium / Medium          2  ...   \n",
       "\n",
       "       Agility  Jumping  Heading  Shot_Power  Finishing  Long_Shots  Curve  \\\n",
       "0           90       95       85          92         93          90     81   \n",
       "1           90       68       71          85         95          88     89   \n",
       "2           96       61       62          78         89          77     79   \n",
       "3           86       69       77          87         94          86     86   \n",
       "4           52       78       25          25         13          16     14   \n",
       "...        ...      ...      ...         ...        ...         ...    ...   \n",
       "17583       27       56       14          16         13          13     11   \n",
       "17584       28       53       12          17         12          11     12   \n",
       "17585       54       61       41          44         28          42     35   \n",
       "17586       34       48       15          23         14          12     13   \n",
       "17587       38       51       12          13         11          16     12   \n",
       "\n",
       "       Freekick_Accuracy  Penalties  Volleys  \n",
       "0                     76         85       88  \n",
       "1                     90         74       85  \n",
       "2                     84         81       83  \n",
       "3                     84         85       88  \n",
       "4                     11         47       11  \n",
       "...                  ...        ...      ...  \n",
       "17583                 13         15       12  \n",
       "17584                 13         16       12  \n",
       "17585                 36         42       37  \n",
       "17586                 12         24       12  \n",
       "17587                 11         22       12  \n",
       "\n",
       "[17588 rows x 39 columns]"
      ]
     },
     "execution_count": 105,
     "metadata": {},
     "output_type": "execute_result"
    }
   ],
   "source": [
    "df_players = pd.read_csv('stats_players.csv')\n",
    "df_players"
   ]
  },
  {
   "cell_type": "markdown",
   "metadata": {
    "cell_id": "00013-1b1d1556-4dbe-499e-8a34-90748e76565e",
    "deepnote_cell_type": "markdown",
    "id": "2R3b7Qe501t5"
   },
   "source": [
    "## 1.1 Predicción de Seleccionados Nacionales \n",
    "\n",
    "Como primera tarea, Renacín, intrigado por la posibilidad de saber qué tan reconocido es un jugador, le consulta a su equipo si es posible predecir si un jugador será o no seleccionado nacional a partir de sus estadísticas en el juego. \n",
    "\n",
    "<p align=\"center\">\n",
    "  <img src=\"https://thumbs.gfycat.com/ThornyFrankFoxhound-size_restricted.gif\" width=\"500\">\n",
    "</p>"
   ]
  },
  {
   "cell_type": "markdown",
   "metadata": {
    "cell_id": "00014-33fe54d0-08a3-457a-932d-d07eb29b7ee3",
    "deepnote_cell_type": "markdown",
    "id": "PIe_Ha58pQRC"
   },
   "source": [
    "### 1.1.1 Generación de Labels para la Clasificación [Sin Puntaje]\n",
    "\n",
    "\n",
    "Primero comience generando las labels para la clasificación. Para esto, trabaje sobre el atributo ```National_Position``` suponiendo que los valores nulos son jugadores no seleccionados para representar a su país. \n",
    "\n",
    "Hecho esto, ¿Cuantos ejemplos por cada clase se tienen? Comente lo que observa.\n",
    "\n"
   ]
  },
  {
   "cell_type": "markdown",
   "metadata": {
    "cell_id": "00015-f7029512-357f-4f07-9897-aaf5d65430a6",
    "deepnote_cell_type": "markdown",
    "tags": []
   },
   "source": [
    "**Respuesta:**"
   ]
  },
  {
   "cell_type": "code",
   "execution_count": 15,
   "metadata": {
    "cell_id": "00016-ea27a011-47ab-4d54-b2cf-f07037d65135",
    "deepnote_cell_type": "code",
    "deepnote_to_be_reexecuted": false,
    "execution_millis": 3,
    "execution_start": 1636741171250,
    "id": "uwKaIuho4lqn",
    "source_hash": "43ce1981"
   },
   "outputs": [
    {
     "data": {
      "text/plain": [
       "False    16513\n",
       "True      1075\n",
       "Name: Es seleccionado?, dtype: int64"
      ]
     },
     "execution_count": 15,
     "metadata": {},
     "output_type": "execute_result"
    }
   ],
   "source": [
    "#Generamos nueva columna en el DF que actúa como label para clasificación binaria True -> es seleccionado o False -> no es seleccionado\n",
    "labels=~df_players['National_Position'].isna().rename('Es seleccionado?')\n",
    "labels.value_counts()"
   ]
  },
  {
   "cell_type": "markdown",
   "metadata": {},
   "source": [
    "Respuesta:\n",
    "Observamos que se cuenta con registros de 16513 jugadores no seleccionados y 1075 jugadores seleccionados. La muestra es bastante desigual, y podría afectar el clasificador no contar con muestras suficientes para seleccionados."
   ]
  },
  {
   "cell_type": "markdown",
   "metadata": {
    "cell_id": "00019-645127af-999a-40ce-b7a1-aa62bb742b4a",
    "deepnote_cell_type": "markdown",
    "id": "0F70XPRFpWH9"
   },
   "source": [
    "### 1.1.2 Camino a la clasificación [1 punto]\n",
    "\n",
    "<p align=\"center\">\n",
    "  <img src=\"http://vignette3.wikia.nocookie.net/inciclopedia/images/c/cd/Patada_Medel_Messi.gif/revision/latest?cb=20150705215005\" width=\"500\">\n",
    "</p>\n",
    "\n",
    "Para preprocesar el dataset, genere un `ColumnTransformer` en donde especifique las transformaciones que hay que realizar para cada columna (por ejemplo StandarScaler, MinMaxScaler, OneHotEncoder, etc...) para que puedan ser utilizadas correctamente por el modelo predictivo y guardelo en algúna variable.\n",
    "\n",
    "Luego, comente y justifique las transformaciones elegidas sobre cada una de las variables (para esto utilice el material ```Player_Stats_Report.html``` que viene en el zip del lab), al igual que las transformaciones aplicadas.\n",
    "\n",
    "Hecho lo anterior, **defina al menos 3 pipelines para la clasificación**, en donde utilice el mismo ColumnTransformer definido anteriormente, pero que varie entre cada pipeline los clasificadores. \n",
    "\n",
    "Para seleccionar los clasificadores más adecuados, utilice la siguiente guía:\n",
    "\n",
    "<p align=\"center\">\n",
    "  <img src=\"https://scikit-learn.org/stable/_static/ml_map.png\" width=\"500\">\n",
    "</p>\n",
    "\n",
    "<br/>\n",
    "\n",
    "Con ella, comente y justifique cada una de las decisiones tomadas al momento de desarrollar su pipeline.\n",
    "\n",
    "**To-Do:**\n",
    "\n",
    "- [ ] Genere un ```ColumnTransformer``` enfocado en preprocesar los datos.\n",
    "- [ ] Indicar y Justificar que preprocesamiento utiliza sobre cada columna.\n",
    "- [ ] Crear 3 ``pipelines`` con diferentes clasificadores.\n",
    "- [ ] Para seleccionar los clasificadores base sus decisiones en la siguiente [guía](https://scikit-learn.org/stable/tutorial/machine_learning_map/index.html)\n",
    "- [ ] No entrenar los ``pipelines`` aún.\n",
    "\n",
    "**Nota:** No es necesario entrenar los clasificadores aún."
   ]
  },
  {
   "cell_type": "markdown",
   "metadata": {
    "cell_id": "00020-4620fe7d-8e00-4c8b-976f-4212347359e6",
    "deepnote_cell_type": "markdown",
    "tags": []
   },
   "source": [
    "**Respuesta:**"
   ]
  },
  {
   "cell_type": "code",
   "execution_count": 45,
   "metadata": {
    "cell_id": "00019-8d766ed7-eaaa-4ca3-985b-330dc69e0345",
    "deepnote_cell_type": "code",
    "scrolled": true,
    "tags": []
   },
   "outputs": [],
   "source": [
    "#Primero se seleccionan únicamente las columnas de relevancia.\n",
    "#En este caso, corresponden a todas menos National_Position (labels) y Name  que se considera irrelevante. \n",
    "features = df_players.drop(columns = ['Name', 'National_Position'])\n",
    "\n",
    "#Luego, se definen las transformaciones particulares para cada tipo de columnas\n",
    "\n",
    "#1) Columnas Categóricas\n",
    "    #1.1) No ordinales -> Se utiliza un OneHotEncoder, puesto que son variables categóricas no ordinales\n",
    "categorical_not_ordinal = ['Nationality', 'Club_Position', 'Preffered_Foot']\n",
    "    #1.2) Ordinales ->Se utiliza un OrdinalEncoder, puesto que son variables categóricas ordinales. En el caso de Weak_foot y Skill_moves no es necesario porque ya están codificadas con enteros del 1 al 5.\n",
    "categorical_ordinal = ['Work_Rate_Ata', 'Work_Rate_Def']\n",
    "#Además Work_Rate se debe separar en Attacking y Defending:\n",
    "features['Work_Rate_Ata']=features['Work_Rate'].str.split(' / ', expand = True)[0]\n",
    "features['Work_Rate_Def']=features['Work_Rate'].str.split(' / ', expand = True)[1]\n",
    "features = features.drop(columns = ['Work_Rate'])\n",
    "category_order = [['Low', 'Medium', 'High'],['Low', 'Medium', 'High']]\n",
    "        #Work_Rate\n",
    "        #Weak_foot\n",
    "        #Skill_Moves\n",
    "\n",
    "#2) Columnas Numércias\n",
    "    #2.1) Aspectos físicos de los jugadores -> Se utiliza una estandarización, ya que distribuyen aproximadamente normal, no es necesario manejar outliers.\n",
    "numerical_normal = ['Age', 'Height', 'Weight']\n",
    "    #Age\n",
    "        #Height\n",
    "        #Weight\n",
    "\n",
    "    #2.2) Características de juego de los jugadores, en escala 1-100 -> Hay algunas que distribuyen aproximadamente normal, en cuyo caso se utiliza estandarización\n",
    "         #y hay otras que no distribuyen normal, en cuyo caso se utiliza box-cox aprovechando la positividad de los valores. En ningún caso hay que lidiar con outliers.\n",
    "        #Estandarización - distribución normal:\n",
    "numerical_normal = numerical_normal+['Aggression','Reactions','Vision','Composure','Crossing','Short_Pass','Long_Pass',\n",
    "                                    'Acceleration','Speed','Stamina','Strength','Balance','Agility','Jumping','Volleys']\n",
    "\n",
    "        #BoxCox - distribución no normal:\n",
    "numerical_not_normal = ['Ball_Control','Dribbling','Marking','Sliding_Tackle','Standing_Tackle','Interceptions',\n",
    "                       'Heading','Shot_Power','Finishing','Long_Shots','Curve','Freekick_Accuracy','Penalties']\n",
    "        "
   ]
  },
  {
   "cell_type": "code",
   "execution_count": 82,
   "metadata": {},
   "outputs": [],
   "source": [
    "preprocessing_transformer = ColumnTransformer(\n",
    "    transformers=[\n",
    "        ('OneHotEncoder', OneHotEncoder(handle_unknown= 'ignore'), categorical_not_ordinal),\n",
    "        ('OrdinalEncoder', OrdinalEncoder(categories = category_order), categorical_ordinal),\n",
    "        ('StandardScaler', StandardScaler(), numerical_normal),\n",
    "        ('PowerTransformer', PowerTransformer(method = 'box-cox'), numerical_not_normal)])\n",
    "                 "
   ]
  },
  {
   "cell_type": "code",
   "execution_count": 83,
   "metadata": {},
   "outputs": [],
   "source": [
    "#Creamos 3 pipelines:\n",
    "#Pipeline 1: Linear SVC\n",
    "pipeline_1 = Pipeline([\n",
    "    ('Preprocessing', preprocessing_transformer),\n",
    "    ('Model', LinearSVC())])\n",
    "#Pipeline 2: KNeighbours Classifier\n",
    "pipeline_2 = Pipeline([\n",
    "    ('Preprocessing', preprocessing_transformer),\n",
    "    ('Model', KNeighborsClassifier())])\n",
    "#Pipeline 3: SVC\n",
    "pipeline_3 = Pipeline([\n",
    "    ('Preprocessing', preprocessing_transformer),\n",
    "    ('Model', SVC())])\n",
    "\n"
   ]
  },
  {
   "cell_type": "markdown",
   "metadata": {
    "cell_id": "00022-c2604b33-63e0-4f34-88cf-019afa3b2225",
    "deepnote_cell_type": "markdown",
    "id": "MpKq6oO3vCNL"
   },
   "source": [
    "### 1.1.3 Entrenemos los pipelines [1 punto]\n",
    "\n",
    "<p align=\"center\">\n",
    "  <img src=\"https://i.gifer.com/7Cc8.gif\" width=\"350\">\n",
    "</p>\n"
   ]
  },
  {
   "cell_type": "markdown",
   "metadata": {
    "cell_id": "00023-664600ec-8c7d-4e9a-8673-edd18d5145a3",
    "deepnote_cell_type": "markdown",
    "id": "wE_1aZaIvOeN"
   },
   "source": [
    "Ahora, entrene los `pipeline` generados en los pasos anteriores. Para esto, primero separe los datos de entrenamiento en un conjunto de entrenamiento y de prueba  (la proporción queda a su juicio).\n",
    "\n",
    "En este paso, seleccione los ejemplos de forma aleatoria e intente mantener la distribución original de labels de cada clase en los conjuntos de prueba/entrenamiento. (vea la documentación de `train_test_split`).\n",
    "\n",
    "\n",
    "Luego, entrene los pipelines\n",
    "\n",
    "Una vez entrenado su modelo, evalue su rendimiento a través de diferentes métricas, comentando que significa cada uno de los valores obtenidos. Puede usar la función `classification_report` para corroborar sus resultados.\n",
    "\n",
    "- ¿Qué implican los valores de accuracy, precisión y recall de la clase positiva (la que indica que un jugador es seleccionado nacional)?\n",
    "- ¿Podrían mejorarse los resultados?, ¿Cómo?\n",
    "- ¿Influye la cantidad de ejemplos por clase?\n",
    "\n",
    "**To-Do**:\n",
    "\n",
    "- [ ] Separar el conjunto de datos en entrenamiento y de prueba.\n",
    "- [ ] Entrenar los `pipelines`.\n",
    "- [ ] Utilizar las métricas para evaluar los modelos generados.\n"
   ]
  },
  {
   "cell_type": "markdown",
   "metadata": {
    "cell_id": "00024-b842d4aa-fb47-4513-8649-e942f6094140",
    "deepnote_cell_type": "markdown",
    "tags": []
   },
   "source": [
    "**Respuesta:**"
   ]
  },
  {
   "cell_type": "code",
   "execution_count": 84,
   "metadata": {
    "cell_id": "00023-f6cdd4bf-3786-444f-a249-62e47133e558",
    "deepnote_cell_type": "code",
    "tags": []
   },
   "outputs": [],
   "source": [
    "#Separación de los datos\n",
    "X_train, X_test, y_train, y_test = train_test_split(features, labels, test_size = 0.33, shuffle = True)"
   ]
  },
  {
   "cell_type": "code",
   "execution_count": 85,
   "metadata": {},
   "outputs": [
    {
     "name": "stderr",
     "output_type": "stream",
     "text": [
      "C:\\Users\\i5\\anaconda3\\lib\\site-packages\\sklearn\\svm\\_base.py:985: ConvergenceWarning: Liblinear failed to converge, increase the number of iterations.\n",
      "  warnings.warn(\"Liblinear failed to converge, increase \"\n"
     ]
    }
   ],
   "source": [
    "#Pipeline 1\n",
    "pipe_trained_1 = pipeline_1.fit(X_train, y_train)"
   ]
  },
  {
   "cell_type": "code",
   "execution_count": 86,
   "metadata": {},
   "outputs": [],
   "source": [
    "#Pipeline 2\n",
    "pipe_trained_2 = pipeline_2.fit(X_train, y_train)"
   ]
  },
  {
   "cell_type": "code",
   "execution_count": 87,
   "metadata": {},
   "outputs": [],
   "source": [
    "#Pipeline 3\n",
    "pipe_trained_3 = pipeline_3.fit(X_train, y_train)"
   ]
  },
  {
   "cell_type": "code",
   "execution_count": 88,
   "metadata": {},
   "outputs": [],
   "source": [
    "pipe_res_1 = pipe_trained_1.predict(X_test)\n",
    "pipe_res_2 = pipe_trained_2.predict(X_test)\n",
    "pipe_res_3 = pipe_trained_3.predict(X_test)"
   ]
  },
  {
   "cell_type": "code",
   "execution_count": 95,
   "metadata": {},
   "outputs": [
    {
     "name": "stdout",
     "output_type": "stream",
     "text": [
      "Pipeline 1\n",
      "[[5392   69]\n",
      " [ 224  120]]\n",
      "              precision    recall  f1-score   support\n",
      "\n",
      "       False       0.96      0.99      0.97      5461\n",
      "        True       0.63      0.35      0.45       344\n",
      "\n",
      "    accuracy                           0.95      5805\n",
      "   macro avg       0.80      0.67      0.71      5805\n",
      "weighted avg       0.94      0.95      0.94      5805\n",
      "\n",
      "Pipeline 2\n",
      "[[5427   34]\n",
      " [ 317   27]]\n",
      "              precision    recall  f1-score   support\n",
      "\n",
      "       False       0.94      0.99      0.97      5461\n",
      "        True       0.44      0.08      0.13       344\n",
      "\n",
      "    accuracy                           0.94      5805\n",
      "   macro avg       0.69      0.54      0.55      5805\n",
      "weighted avg       0.92      0.94      0.92      5805\n",
      "\n",
      "Pipeline 3\n",
      "[[5461    0]\n",
      " [ 342    2]]\n",
      "              precision    recall  f1-score   support\n",
      "\n",
      "       False       0.94      1.00      0.97      5461\n",
      "        True       1.00      0.01      0.01       344\n",
      "\n",
      "    accuracy                           0.94      5805\n",
      "   macro avg       0.97      0.50      0.49      5805\n",
      "weighted avg       0.94      0.94      0.91      5805\n",
      "\n"
     ]
    }
   ],
   "source": [
    "print('Pipeline 1')\n",
    "print(confusion_matrix(y_test, pipe_res_1))\n",
    "print(classification_report(y_test, pipe_res_1))\n",
    "print('Pipeline 2')\n",
    "print(confusion_matrix(y_test, pipe_res_2))\n",
    "print(classification_report(y_test, pipe_res_2))\n",
    "print('Pipeline 3')\n",
    "print(confusion_matrix(y_test, pipe_res_3))\n",
    "print(classification_report(y_test, pipe_res_3))"
   ]
  },
  {
   "cell_type": "markdown",
   "metadata": {
    "cell_id": "00028-42eb3af5-2635-48e6-9049-736e2d4b3306",
    "deepnote_cell_type": "markdown",
    "id": "QgSeo0aIx9ow"
   },
   "source": [
    "**Respuesta**:\n",
    "\n",
    "```\n",
    "Los tres modelos tienen una alta accuracy, sin embargo, al ser tan desigual la distribución de cada clase (muy pocos seleccionados en comparación con no seleccionados), se obtiene una precisión y recall muy alto en la clase False y una precisión y recall más pobres en la clase True. Esto deriva en que el f1-score sea deficiente en esta clase.\n",
    "\n",
    "Al comparar los tres modelos, se nota que todos tienen un gran desempeño en predecir futbolistas no seleccionados con un f1-score de 0.97. No obstante, al intentar predecir futbolistas seleccionados hay grandes diferencias, siendo el mejor modelo el LineSVC, con un f1-score de 0.45 y el peor modelo el SVC con un f1-score de apenas 0.01\n",
    "\n",
    "Creo que para mejorar los resultados se deberían contar con más datos de la clase seleccionado, sin embargo, esto parece complejo puesto que la cantidad de futbolistas es finita. Quizá complementar con registros de futbolistas retirados que alguna vez fueron seleccionados, pero esto sería modificar el dominio del origen de la muestra y puede llevar a errores.\n",
    "\n",
    "También se podría intentar mejorar los resultados probando algún otro modelo o ajustando los hiperparámetros, como la división train/set y/o parámetros particulares del modelo escogido. También se podría evaluar los resultados sobre el X_train, para intentar dilucidar si se tiene Overfitting.\n",
    "```"
   ]
  },
  {
   "cell_type": "markdown",
   "metadata": {
    "cell_id": "00029-25d6c3d3-9c25-49f0-a27b-beface2dd794",
    "deepnote_cell_type": "markdown",
    "id": "ix97Ho4uOARH"
   },
   "source": [
    "## 1.2 Predicción de posiciones de jugadores [2 puntos]\n",
    "\n",
    "<p align=\"center\">\n",
    "  <img src=\"https://pbs.twimg.com/media/E1rfA1aWEAYU6Ny.jpg\" width=\"500\">\n",
    "</p>"
   ]
  },
  {
   "cell_type": "markdown",
   "metadata": {
    "cell_id": "00030-38a30ede-8d53-4a7c-930b-bfeaa4d499ff",
    "deepnote_cell_type": "markdown",
    "id": "oHAwZfV8hMsk"
   },
   "source": [
    "En una nueva jornada de desmesuradas transacciones deportivas, Renacín escuchó a sus colegas discutir acerca de que el precio de cada jugador depende en gran medida de la posición en la cancha en la que juega. Y además, que hay bastantes jugadores nuevos que no tienen muy claro en que posición verdaderamente brillarían, por lo que actualmente puede que actualmente estén jugando en posiciones sub-optimas. \n",
    "\n",
    "Viendo que los resultados del primer análisis no son tan esperanzadores, el corporeo los comanda a cambiar su tarea: ahora, les solicita que construyan un clasificador enfocado en predecir la mejor posición de los jugadores en la cancha según sus características. \n",
    "\n",
    "Para lograr esto, primero, les pide que etiqueten de la siguiente manera los valores que aparecen en el atributo ```Club_Position```, pidiendo que agrupen los valores en los siguientes grupos:\n",
    "\n",
    "**Nota**:  Renacín les recalca que **no deben utilizar los valores ```Sub``` y ```Res``` de esta columna**.\n",
    "\n",
    "```python\n",
    "ataque = ['ST', 'CF'] \n",
    "central_ataque = ['RW', 'CAM', 'LW'] \n",
    "central = ['RM', 'CM', 'LM'] \n",
    "central_defensa = ['RWB', 'CDM', 'LWB']\n",
    "defensa = ['RB', 'CB', 'LB']\n",
    "arquero = ['GK']\n",
    "```\n",
    "\n",
    "Cabe señalar que al igual como lo realizado con la clasificación binaria, deberá justificar en base a la [guía](https://scikit-learn.org/stable/tutorial/machine_learning_map/index.html) la elección del clasificador y se deben comentar los resultados obtenidos en la clasificación.\n",
    "\n",
    "**To-Do**:\n",
    "\n",
    "- [ ] Aplique las etiquetas descritas anteriormente en cada uno de los valores señalados en esta sección.\n",
    "- [ ] Cuente cuantos por clase quedan.\n",
    "- [ ] Entrene el nuevo pipeline y ejecute una evaluación de este.  \n",
    "- [ ] Comente los resultados obtenidos."
   ]
  },
  {
   "cell_type": "markdown",
   "metadata": {
    "cell_id": "00031-e53db99a-2bcc-474a-92b1-1f55458afc1d",
    "deepnote_cell_type": "markdown",
    "tags": []
   },
   "source": [
    "**Respuesta:**"
   ]
  },
  {
   "cell_type": "code",
   "execution_count": 106,
   "metadata": {
    "cell_id": "00028-f8dd9230-e314-42be-a0f8-2c295dd45e54",
    "deepnote_cell_type": "code",
    "tags": []
   },
   "outputs": [
    {
     "name": "stdout",
     "output_type": "stream",
     "text": [
      "defensa            1180\n",
      "central             907\n",
      "arquero             632\n",
      "central_ataque      581\n",
      "ataque              430\n",
      "central_defensa     209\n",
      "Name: Club_Position, dtype: int64\n"
     ]
    }
   ],
   "source": [
    "#Aplicación de etiquetas y cuenta de clases resultantes\n",
    "groups_position={\n",
    "    'ST':'ataque','CF':'ataque',\n",
    "    'RW':'central_ataque','CAM':'central_ataque','LW':'central_ataque',\n",
    "    'RM':'central','CM':'central','LM':'central',\n",
    "    'RWB':'central_defensa','CDM':'central_defensa','LWB':'central_defensa',\n",
    "    'RB':'defensa','CB':'defensa','LB':'defensa',\n",
    "    'GK':'arquero'}      \n",
    "df_players['Club_Position']=df_players['Club_Position'].map(groups_position)\n",
    "df_players_with_position = df_players[df_players['Club_Position'].notna()]\n",
    "print(df_players_with_position['Club_Position'].value_counts())"
   ]
  },
  {
   "cell_type": "code",
   "execution_count": 115,
   "metadata": {},
   "outputs": [],
   "source": [
    "#Labels y features\n",
    "labels = df_players_with_position['Club_Position']\n",
    "features = df_players_with_position.drop(columns = ['Name', 'National_Position', 'Club_Position'])\n",
    "features['Work_Rate_Ata']=features['Work_Rate'].str.split(' / ', expand = True)[0]\n",
    "features['Work_Rate_Def']=features['Work_Rate'].str.split(' / ', expand = True)[1]\n",
    "features = features.drop(columns = ['Work_Rate'])"
   ]
  },
  {
   "cell_type": "code",
   "execution_count": 116,
   "metadata": {},
   "outputs": [],
   "source": [
    "#Creación de nuevo pipeline, para esto, utilizaremos el modelo LinearSVC por haber sido el de mejor rendimiento en el item anterior\n",
    "#Primero reciclamos el ColumnTransformer ya creado para el pre-processing\n",
    "\n",
    "#La diferencia es que hay que sacar la columna Club_Position:\n",
    "categorical_not_ordinal = ['Nationality', 'Preffered_Foot']\n",
    "preprocessing_transformer = ColumnTransformer(\n",
    "    transformers=[\n",
    "        ('OneHotEncoder', OneHotEncoder(handle_unknown= 'ignore'), categorical_not_ordinal),\n",
    "        ('OrdinalEncoder', OrdinalEncoder(categories = category_order), categorical_ordinal),\n",
    "        ('StandardScaler', StandardScaler(), numerical_normal),\n",
    "        ('PowerTransformer', PowerTransformer(method = 'box-cox'), numerical_not_normal)])\n",
    "\n",
    "pipeline_multiclase = Pipeline([\n",
    "    ('Preprocessing', preprocessing_transformer),\n",
    "    ('Model', LinearSVC())])\n"
   ]
  },
  {
   "cell_type": "code",
   "execution_count": 117,
   "metadata": {},
   "outputs": [],
   "source": [
    "#Separación de train set y test set\n",
    "X_train, X_test, y_train, y_test = train_test_split(features, labels, test_size = 0.33, shuffle = True)"
   ]
  },
  {
   "cell_type": "code",
   "execution_count": 118,
   "metadata": {},
   "outputs": [
    {
     "name": "stderr",
     "output_type": "stream",
     "text": [
      "C:\\Users\\i5\\anaconda3\\lib\\site-packages\\sklearn\\svm\\_base.py:985: ConvergenceWarning: Liblinear failed to converge, increase the number of iterations.\n",
      "  warnings.warn(\"Liblinear failed to converge, increase \"\n"
     ]
    }
   ],
   "source": [
    "#Entrenamiento\n",
    "pipe_trained_multiclase = pipeline_multiclase.fit(X_train, y_train)"
   ]
  },
  {
   "cell_type": "code",
   "execution_count": 119,
   "metadata": {},
   "outputs": [],
   "source": [
    "#Predicción\n",
    "pipe_res_multiclase = pipe_trained_multiclase.predict(X_test)"
   ]
  },
  {
   "cell_type": "code",
   "execution_count": 120,
   "metadata": {
    "scrolled": true
   },
   "outputs": [
    {
     "name": "stdout",
     "output_type": "stream",
     "text": [
      "Pipeline Multiclase\n",
      "[[201   0   0   0   0   0]\n",
      " [  0 117  15   6   0   2]\n",
      " [  0  18 166  66  11  42]\n",
      " [  0  15  88  69   6   7]\n",
      " [  0   0   8   7  14  41]\n",
      " [  0   0  16   3   8 374]]\n",
      "                 precision    recall  f1-score   support\n",
      "\n",
      "        arquero       1.00      1.00      1.00       201\n",
      "         ataque       0.78      0.84      0.81       140\n",
      "        central       0.57      0.55      0.56       303\n",
      " central_ataque       0.46      0.37      0.41       185\n",
      "central_defensa       0.36      0.20      0.26        70\n",
      "        defensa       0.80      0.93      0.86       401\n",
      "\n",
      "       accuracy                           0.72      1300\n",
      "      macro avg       0.66      0.65      0.65      1300\n",
      "   weighted avg       0.70      0.72      0.71      1300\n",
      "\n"
     ]
    }
   ],
   "source": [
    "#Evaluación\n",
    "print('Pipeline Multiclase')\n",
    "print(confusion_matrix(y_test, pipe_res_multiclase))\n",
    "print(classification_report(y_test, pipe_res_multiclase))"
   ]
  },
  {
   "cell_type": "markdown",
   "metadata": {
    "cell_id": "00037-49e50b09-156f-4996-8fec-1e3e6cf51802",
    "deepnote_cell_type": "markdown",
    "tags": []
   },
   "source": [
    "**Respuesta**:\n",
    "\n",
    "```\n",
    "Los resultados obtenidos para cada clase dependen fuertemente de la cantidad de muestras que se tiene de estas. En particular, se nota lo siguiente:\n",
    "\n",
    "- En el caso de los arqueros, estos tienen características muy particulares que hace que se logren identificar con total precisión f1-score perfecto.\n",
    "- Los mejores resultados se obtienen en predicción de defensas (según f1-score), justamente la clase sobre la que se tiene mayor cantidad de registros: 1180.\n",
    "- Los peores resultados se obtienen en predicción de central_defensa (según f1-score), justamente la clase sobre la que se tiene menor cantidad de registros: 209.\n",
    "\n",
    "- Los resultados son aceptables para ciertas clases y para otras no. Para intentar mejorar el desempeño se podría evaluar la utilización de otro modelo, modificar hiperparámetros, verificar que no esté haciendo overfitting, conseguir más datos, entre otras acciones\n",
    "```"
   ]
  },
  {
   "cell_type": "markdown",
   "metadata": {
    "cell_id": "00038-b8c6c19d-0688-4899-9abb-c89f94c2b89a",
    "deepnote_cell_type": "markdown",
    "id": "C-vkB4xoOGtM"
   },
   "source": [
    "## 1.3 Predicción de Sueldos [2 puntos]\n",
    "\n",
    "<p align=\"center\">\n",
    "  <img src=\"https://media.giphy.com/media/3oEjHWtHAFcOKS4iA0/giphy.gif\" width=\"460\">\n",
    "</p>"
   ]
  },
  {
   "cell_type": "markdown",
   "metadata": {
    "cell_id": "00039-e50ff971-8882-46be-832a-deaff22bdf89",
    "deepnote_cell_type": "markdown",
    "tags": []
   },
   "source": [
    "Queriendo ahondar aún más en el mercado del balompíe, Renacin, logra obtener (de una manera no muy formal) los sueldos de múltiples futbolistas y los guarda en el archivo ```sueldos.csv```. Con ellos les solicita que generen un regresor que les permita predecir el sueldo de los futbolistas en base a las características de los pichichis, esto, debido a su motivación por invertir y/o realizar especulación sobre los sueldos de jugadores.\n",
    "\n",
    "Renacin es claro señalando que deben seguir utilizando la [guía](https://scikit-learn.org/stable/tutorial/machine_learning_map/index.html) y comenten cada uno de los pasos realizados, para obtener su regresión lineal. Señalándoles que no aceptara un $R^2$ inferior a 0.35 para el modelo solicitado.\n",
    "\n",
    "Para esta parte usted tiene total libertad en la generación del regresor, la unica exigencia es que utilice un pipeline para generar la regresión y utilice la metrica $R^2$ para medir el rendimiento de esta.\n",
    "\n",
    "**To-Do**:\n",
    "\n",
    "- [ ] Explique en que consiste la métrica $R^2$\n",
    "- [ ] Generar un pipeline para la regresión.\n",
    "- [ ] Obtener un regresor con un $R^2$ superior a  $0.35$.\n",
    "- [ ] Comente sus resultados y si es posible mejorar los resultados obtenidos. ¿Se necesitarían más datos o otros tipos de características o una combinación de ambos?"
   ]
  },
  {
   "cell_type": "markdown",
   "metadata": {
    "cell_id": "00040-487b67d5-7731-400d-8fa5-a8fb3b59c7f5",
    "deepnote_cell_type": "markdown",
    "tags": []
   },
   "source": [
    "**Respuesta**"
   ]
  },
  {
   "cell_type": "markdown",
   "metadata": {
    "cell_id": "00041-012da19b-8f64-4971-84d6-e95502b74afb",
    "deepnote_cell_type": "code",
    "tags": []
   },
   "source": [
    "Siguiendo la guía para escoger un modelo, se selecciona Ridge Regression preliminarmente, puesto que a priori no es clara la decisión de si sólo unas pocas variables importan en el sueldo de un jugador\n",
    "\n",
    "\n"
   ]
  },
  {
   "cell_type": "code",
   "execution_count": 213,
   "metadata": {},
   "outputs": [],
   "source": [
    "#Lectura de datos y join con tabla original\n",
    "sueldos = pd.read_csv('salarios.csv', index_col = 1).drop(columns = ['Unnamed: 0'])\n",
    "df_players_with_salary = df_players.join(sueldos, on = 'Name')\n",
    "#Sólo nos quedamos con jugadores de los cuales se conocía el dato de su salario\n",
    "df_players_with_salary = df_players_with_salary[df_players_with_salary['Weekly Salary'].notna()]\n"
   ]
  },
  {
   "cell_type": "code",
   "execution_count": 214,
   "metadata": {},
   "outputs": [],
   "source": [
    "#Labels y features\n",
    "features = df_players_with_salary.drop(columns = ['Name', 'Weekly Salary'])\n",
    "features['Work_Rate_Ata']=features['Work_Rate'].str.split(' / ', expand = True)[0]\n",
    "features['Work_Rate_Def']=features['Work_Rate'].str.split(' / ', expand = True)[1]\n",
    "labels = df_players_with_salary[['Weekly Salary']]"
   ]
  },
  {
   "cell_type": "code",
   "execution_count": 215,
   "metadata": {
    "scrolled": true
   },
   "outputs": [],
   "source": [
    "#Utilizamos un MinMaxScaler sobre Weekly Salary\n",
    "minmax_scaler = MinMaxScaler()\n",
    "labels = minmax_scaler.fit_transform(labels)"
   ]
  },
  {
   "cell_type": "code",
   "execution_count": 216,
   "metadata": {},
   "outputs": [],
   "source": [
    "#Reciclamos el Column Transformer anterior para el preprocessing, pero añadiendo la columnas faltantes\n",
    "categorical_not_ordinal = ['Nationality', 'Club_Position', 'Preffered_Foot', 'National_Position']\n",
    "\n",
    "preprocessing_transformer = ColumnTransformer(\n",
    "    transformers=[\n",
    "        ('OneHotEncoder', OneHotEncoder(handle_unknown= 'ignore'), categorical_not_ordinal),\n",
    "        ('OrdinalEncoder', OrdinalEncoder(categories = category_order), categorical_ordinal),\n",
    "        ('StandardScaler', StandardScaler(), numerical_normal),\n",
    "        ('PowerTransformer', PowerTransformer(method = 'box-cox'), numerical_not_normal)])"
   ]
  },
  {
   "cell_type": "code",
   "execution_count": 291,
   "metadata": {
    "scrolled": false
   },
   "outputs": [],
   "source": [
    "#Creamos pipeline\n",
    "\n",
    "pipeline_regresion = Pipeline([\n",
    "    ('Preprocessing', preprocessing_transformer),\n",
    "    ('Model', RidgeCV())])#Luego de algunas pruebas, se determinó que tuvo un mejor desempeño RidgeCV en lugar de Ridge\n"
   ]
  },
  {
   "cell_type": "code",
   "execution_count": 312,
   "metadata": {},
   "outputs": [],
   "source": [
    "#Separamos train set y test set\n",
    "X_train, X_test, y_train, y_test = train_test_split(features, labels, test_size = 0.33, shuffle = True)"
   ]
  },
  {
   "cell_type": "code",
   "execution_count": 313,
   "metadata": {},
   "outputs": [],
   "source": [
    "#Entrenamos pipeline\n",
    "pipe_trained_regresion = pipeline_regresion.fit(X_train, y_train)"
   ]
  },
  {
   "cell_type": "code",
   "execution_count": 314,
   "metadata": {},
   "outputs": [],
   "source": [
    "#Predecimos con test set\n",
    "pipe_res_regresion = pipe_trained_regresion.predict(X_test)"
   ]
  },
  {
   "cell_type": "code",
   "execution_count": 315,
   "metadata": {},
   "outputs": [
    {
     "name": "stdout",
     "output_type": "stream",
     "text": [
      "Pipeline Regresión, puntaje R2:\n",
      "0.37863794560393205\n"
     ]
    }
   ],
   "source": [
    "#Evaluamos de los resultados\n",
    "print('Pipeline Regresión, puntaje R2:')\n",
    "#print(confusion_matrix(y_test, pipe_res_regresion))\n",
    "print(r2_score(y_test, pipe_res_regresion))"
   ]
  },
  {
   "cell_type": "markdown",
   "metadata": {
    "cell_id": "00044-db7abb06-7339-40b0-9021-01c6111e5459",
    "deepnote_cell_type": "markdown",
    "tags": []
   },
   "source": [
    "**Respuesta**:\n",
    "\n",
    "```\n",
    "    $R^2$ consiste en una métrica para la evaluación de la calidad de un regresor. Un alto coeficiente $R^2$ indica que los datos se ajustan muy al modelo, mientras que un bajo $R^2$ indica lo contrario.\n",
    "   \n",
    "   Luego de algunas iteraciones, se determinó que tiene un mejor desempeño RidgeCV por sobre Ridge, consiguiendo un puntaje superior a 0.35, cumpliendo así con el requerimiento.\n",
    "   \n",
    "   Para mejorar los resultados pienso que se requiriría una mezcla de ambas cosas, más datos y más características. Las que se tienen están muy enfocadas en una caracterización completa sobre las capacidades futbolísticas de los jugadores, y algunos datos básicos como nacionalidad, edad, etc... Creo que es muy relevante otro aspecto para la determinación de sus salarios, como:\n",
    "   - La liga en la que juegan (sueldos muy distintos según el nivel competitivo de la liga)\n",
    "   - El equipo en el que juegan (a veces hay equipos en ligas poco completitivas que pagan altísimos sueldos (caso arabia saudita, MLS, china, entre otras)\n",
    "   - La \"marca\" del jugador, que se podría expresar por ejemplo, a través de alguna estadística de su publicidad, venta de camisetas, etc... (hay equipos que contratan jugadores y les dan un alto sueldo no sólo por sus capacidades futbolísticas sino por el arrastre a la afición, venta de camisetas y cuestiones de marketing que estos generan).\n",
    "   - Entre otros...\n",
    "   \n",
    "```"
   ]
  },
  {
   "cell_type": "markdown",
   "metadata": {
    "cell_id": "00045-bd3cc055-46c7-47ae-ac82-07ddb96f99de",
    "deepnote_cell_type": "markdown",
    "id": "Rg4ZMq8ezAH6"
   },
   "source": [
    "# Conclusión\n",
    "Eso ha sido todo para el lab de hoy, recuerden que el laboratorio tiene un plazo de entrega de una semana. Cualquier duda del laboratorio, no duden en contactarnos por mail o U-cursos.\n",
    "\n",
    "<p align=\"center\">\n",
    "  <img src=\"https://media2.giphy.com/media/l1J3CbFgn5o7DGRuE/giphy.gif\">\n",
    "</p>"
   ]
  },
  {
   "cell_type": "markdown",
   "metadata": {
    "cell_id": "00047-2acde338-38a4-455c-879b-3be406525767",
    "deepnote_cell_type": "markdown",
    "id": "wCL1lACBzAH7"
   },
   "source": [
    "<br>\n",
    "<center>\n",
    "<img src=\"https://i.kym-cdn.com/photos/images/original/001/194/195/b18.png\" width=100 height=50 />\n",
    "</center>\n",
    "<br>"
   ]
  },
  {
   "cell_type": "markdown",
   "metadata": {
    "created_in_deepnote_cell": true,
    "deepnote_cell_type": "markdown",
    "tags": []
   },
   "source": [
    "<a style='text-decoration:none;line-height:16px;display:flex;color:#5B5B62;padding:10px;justify-content:end;' href='https://deepnote.com?utm_source=created-in-deepnote-cell&projectId=87110296-876e-426f-b91d-aaf681223468' target=\"_blank\">\n",
    "<img alt='Created in deepnote.com' style='display:inline;max-height:16px;margin:0px;margin-right:7.5px;' src='data:image/svg+xml;base64,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' > </img>\n",
    "Created in <span style='font-weight:600;margin-left:4px;'>Deepnote</span></a>"
   ]
  }
 ],
 "metadata": {
  "colab": {
   "collapsed_sections": [],
   "name": "Laboratorio3.ipynb",
   "provenance": []
  },
  "deepnote": {},
  "deepnote_execution_queue": [],
  "deepnote_notebook_id": "350d39d6-937f-44f2-9da5-3b4d715597f9",
  "kernelspec": {
   "display_name": "Python 3",
   "language": "python",
   "name": "python3"
  },
  "language_info": {
   "codemirror_mode": {
    "name": "ipython",
    "version": 3
   },
   "file_extension": ".py",
   "mimetype": "text/x-python",
   "name": "python",
   "nbconvert_exporter": "python",
   "pygments_lexer": "ipython3",
   "version": "3.8.8"
  },
  "toc": {
   "base_numbering": 1,
   "nav_menu": {},
   "number_sections": true,
   "sideBar": true,
   "skip_h1_title": true,
   "title_cell": "Tabla de Contenidos",
   "title_sidebar": "Contenidos",
   "toc_cell": false,
   "toc_position": {
    "height": "calc(100% - 180px)",
    "left": "10px",
    "top": "150px",
    "width": "241.867px"
   },
   "toc_section_display": true,
   "toc_window_display": true
  },
  "varInspector": {
   "cols": {
    "lenName": 16,
    "lenType": 16,
    "lenVar": 40
   },
   "kernels_config": {
    "python": {
     "delete_cmd_postfix": "",
     "delete_cmd_prefix": "del ",
     "library": "var_list.py",
     "varRefreshCmd": "print(var_dic_list())"
    },
    "r": {
     "delete_cmd_postfix": ") ",
     "delete_cmd_prefix": "rm(",
     "library": "var_list.r",
     "varRefreshCmd": "cat(var_dic_list()) "
    }
   },
   "types_to_exclude": [
    "module",
    "function",
    "builtin_function_or_method",
    "instance",
    "_Feature"
   ],
   "window_display": false
  }
 },
 "nbformat": 4,
 "nbformat_minor": 1
}
